{
 "cells": [
  {
   "cell_type": "code",
   "execution_count": 33,
   "metadata": {},
   "outputs": [],
   "source": [
    "# -*- coding: UTF-8 -*-\n",
    "\"\"\"\n",
    "Compute average runtime\n",
    "\"\"\"\n",
    "import sys\n",
    "from typing import List, Dict\n",
    "import numpy as np\n",
    "import pandas as pd\n",
    "import util\n",
    "\n",
    "# Parameters for the scenarios\n",
    "data_path = \"/home/rdaneel/ICAPS2025_results/trial2\"\n",
    "# exp_path = data_path + \"/inadmissible_heuristics\"\n",
    "# tie_breaking = \"shortestPathHWY\"\n",
    "# tie_breaking = \"directContraFlowHWY\"\n",
    "# tie_breaking = \"sqrtContraFlowHWY\"\n",
    "# tie_breaking = \"randomTieBreakingHWY\"\n",
    "\n",
    "exp_path = data_path + \"/inadmissible_heuristic_adaptive0\"\n",
    "tie_breaking = \"shortestPathHWY-Adaptive0\"\n",
    "# tie_breaking = \"directContraFlow-Adaptive0\"\n",
    "# tie_breaking = \"sqrtContraFlowHWY-Adaptive0\"\n",
    "# tie_breaking = \"randomTieBreakingHWY-Adaptive0\"\n",
    "\n",
    "# exp_path = data_path + \"/inadmissible_heuristic_adaptive1\"\n",
    "# tie_breaking = \"shortestPathHWY-Adaptive1\"\n",
    "# tie_breaking = \"directContraFlow-Adaptive1\"\n",
    "# tie_breaking = \"sqrtContraFlowHWY-Adaptive1\"\n",
    "# tie_breaking = \"randomTieBreakingHWY-Adaptive1\"\n",
    "\n",
    "subdirectory_path = \"/MHCBS_\" + tie_breaking + \"/results\"\n",
    "\n",
    "# map_name = \"ost003d\"\n",
    "# scen_name = \"random\"\n",
    "# subopt = \"1.20\"\n",
    "# agent_num = \"700\"\n",
    "# hwy_ag = \"350\"\n",
    "\n",
    "# map_name = \"warehouse-10-20-10-2-1\"\n",
    "# scen_name = \"s2s\"\n",
    "# subopt = \"1.20\"\n",
    "# agent_num = \"700\"\n",
    "# hwy_ag = \"350\"\n",
    "\n",
    "# map_name = \"random-64-64-20\"\n",
    "# scen_name = \"random\"\n",
    "# subopt = \"1.20\"\n",
    "# agent_num = \"700\"\n",
    "# hwy_ag = \"350\"\n",
    "\n",
    "# map_name = \"warehouse-random-64-64-20\"\n",
    "# scen_name = \"s2s\"\n",
    "# subopt = \"1.20\"\n",
    "# agent_num = \"700\"\n",
    "# hwy_ag = \"350\"\n",
    "\n",
    "# map_name = \"Boston_0_256\"\n",
    "# scen_name = \"random\"\n",
    "# subopt = \"1.05\"\n",
    "# agent_num = \"1000\"\n",
    "# hwy_ag = \"500\"\n",
    "\n",
    "# map_name = \"ht_mansion_n\"\n",
    "# scen_name = \"random\"\n",
    "# subopt = \"1.20\"\n",
    "# agent_num = \"500\"\n",
    "# hwy_ag = \"250\"\n",
    "\n",
    "map_name = \"brc202d\"\n",
    "scen_name = \"random\"\n",
    "subopt = \"1.20\"\n",
    "agent_num = \"700\"\n",
    "hwy_ag = \"350\"\n",
    "\n",
    "ins_num = 25\n",
    "runtime_limit = 120\n",
    "\n",
    "solver_name = \"EECBS\"\n",
    "# enhancement_name = \"BP-PC-WDG-TR\"\n",
    "# enhancement_name = \"FX-BP-PC-WDG-TR\"\n",
    "# enhancement_name = \"HWY-BP-PC-WDG-TR\"\n",
    "enhancement_name = \"FX-HWY-BP-PC-WDG-TR\"\n",
    "\n",
    "highway_name = \"TrafficFlow-Focal\"\n",
    "iteration = \"1\"\n",
    "hwy_subopt = subopt\n",
    "penalty_cost = \"50.0\"\n"
   ]
  },
  {
   "cell_type": "code",
   "execution_count": 34,
   "metadata": {},
   "outputs": [
    {
     "name": "stdout",
     "output_type": "stream",
     "text": [
      "/home/rdaneel/ICAPS2025_results/trial2/inadmissible_heuristic_adaptive0/MHCBS_shortestPathHWY-Adaptive0/results/brc202d/EECBS/brc202d_random_ag-700_w-1.20_TrafficFlow-Focal-shortestPathHWY-Adaptive0-i1-w1.20-c50.0-a350_EECBS-FX-HWY-BP-PC-WDG-TR.csv\n"
     ]
    }
   ],
   "source": [
    "# Load data\n",
    "# /home/rdaneel/ICAPS2025_results/inadmissible_heuristics/MHCBS_shortestPathTieBreakingHWY/results/ost003d/EECBS\n",
    "file_dir = exp_path + subdirectory_path + \"/\" + map_name + \"/\" + solver_name + \"/\"\n",
    "\n",
    "if \"HWY\" in enhancement_name.split(\"-\"):\n",
    "    file_name = map_name + \"_\" + scen_name + \"_ag-\" + agent_num + \"_w-\" + subopt + \"_\"\\\n",
    "        + highway_name + \"-\" + tie_breaking + \"-i\" + iteration + \"-w\" + hwy_subopt + \"-c\" + penalty_cost + \"-a\" + hwy_ag + \"_\"\\\n",
    "            + solver_name + \"-\" + enhancement_name + \".csv\"\n",
    "else:\n",
    "    file_name = map_name + \"_\" + scen_name + \"_ag-\" + agent_num + \"_w-\" + subopt + \"_\"\\\n",
    "        + solver_name + \"-\" + enhancement_name + \".csv\"\n",
    "\n",
    "print(file_dir + file_name)\n",
    "df = util.read_file(file_dir + file_name)\n"
   ]
  },
  {
   "cell_type": "code",
   "execution_count": 35,
   "metadata": {},
   "outputs": [
    {
     "name": "stdout",
     "output_type": "stream",
     "text": [
      "0.52\n"
     ]
    }
   ],
   "source": [
    "row_data = []\n",
    "for row_id, row in df.iterrows():\n",
    "    if row_id >= ins_num:\n",
    "        break\n",
    "    if row[\"runtime build HWY\"] == 1.79769E+308:\n",
    "        row[\"runtime build HWY\"] = 0\n",
    "    row_val = row[\"runtime\"] + row[\"runtime build HWY\"]\n",
    "    if row_val > runtime_limit:\n",
    "        row_val = 0\n",
    "    else:\n",
    "        row_val = 1\n",
    "    row_data.append(row_val)\n",
    "\n",
    "total_val = 0\n",
    "for val in row_data:\n",
    "    total_val += val\n",
    "avg_val = total_val / len(row_data)\n",
    "print(avg_val)"
   ]
  },
  {
   "cell_type": "code",
   "execution_count": 36,
   "metadata": {},
   "outputs": [
    {
     "name": "stdout",
     "output_type": "stream",
     "text": [
      "99.21830199999998\n"
     ]
    }
   ],
   "source": [
    "row_data = []\n",
    "for row_id, row in df.iterrows():\n",
    "    if row_id >= ins_num:\n",
    "        break\n",
    "    if row[\"runtime build HWY\"] == 1.79769E+308:\n",
    "        row[\"runtime build HWY\"] = 0\n",
    "    row_val = row[\"runtime\"] + row[\"runtime build HWY\"]\n",
    "    if row_val > runtime_limit:\n",
    "        row_val = runtime_limit\n",
    "    row_data.append(row_val)\n",
    "\n",
    "total_val = 0\n",
    "for val in row_data:\n",
    "    total_val += val\n",
    "avg_val = total_val / len(row_data)\n",
    "print(avg_val)\n"
   ]
  }
 ],
 "metadata": {
  "kernelspec": {
   "display_name": "Python 3",
   "language": "python",
   "name": "python3"
  },
  "language_info": {
   "codemirror_mode": {
    "name": "ipython",
    "version": 3
   },
   "file_extension": ".py",
   "mimetype": "text/x-python",
   "name": "python",
   "nbconvert_exporter": "python",
   "pygments_lexer": "ipython3",
   "version": "3.8.10"
  }
 },
 "nbformat": 4,
 "nbformat_minor": 2
}
